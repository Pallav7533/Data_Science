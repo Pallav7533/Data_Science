{
 "cells": [
  {
   "cell_type": "code",
   "execution_count": 1,
   "id": "a9ce5552",
   "metadata": {},
   "outputs": [
    {
     "name": "stdout",
     "output_type": "stream",
     "text": [
      "6\n"
     ]
    }
   ],
   "source": [
    "x = 4\n",
    "y = 2\n",
    "\n",
    "\n",
    "print(x + y)"
   ]
  },
  {
   "cell_type": "code",
   "execution_count": 2,
   "id": "1224d66d",
   "metadata": {},
   "outputs": [
    {
     "name": "stdout",
     "output_type": "stream",
     "text": [
      "10.34\n",
      "0.33999999999999986\n",
      "26.7\n",
      "1.068\n",
      "0.33999999999999986\n",
      "5.34\n",
      "4342.164627542399\n"
     ]
    }
   ],
   "source": [
    "x = 5.34\n",
    "y = 5.0\n",
    "\n",
    "print(x + y)\n",
    "\n",
    "print(x - y)\n",
    "\n",
    "print(x * y)\n",
    "\n",
    "print(x / y)\n",
    "\n",
    "print(x % y) \n",
    "\n",
    "print(abs(x))\n",
    "\n",
    "print(x ** y)"
   ]
  },
  {
   "cell_type": "code",
   "execution_count": 3,
   "id": "df30715b",
   "metadata": {},
   "outputs": [
    {
     "name": "stdout",
     "output_type": "stream",
     "text": [
      "Gun X Seal\n",
      "GunGun\n"
     ]
    }
   ],
   "source": [
    "x = 'Gun'\n",
    "y = 'Seal'\n",
    "\n",
    "print(x + ' X ' + y)\n",
    "\n",
    "print(x * 2)"
   ]
  },
  {
   "cell_type": "code",
   "execution_count": 4,
   "id": "b70172c3",
   "metadata": {},
   "outputs": [
    {
     "name": "stdout",
     "output_type": "stream",
     "text": [
      "llav\n",
      "Pv\n"
     ]
    }
   ],
   "source": [
    "myName = 'Pallav'\n",
    "z1 = myName[2:] \n",
    "\n",
    "print(z1)\n",
    "\n",
    "z2 = myName[0] + myName[5] \n",
    "\n",
    "print(z2)"
   ]
  },
  {
   "cell_type": "code",
   "execution_count": 5,
   "id": "ca50f8ef",
   "metadata": {},
   "outputs": [
    {
     "data": {
      "text/plain": [
       "'21'"
      ]
     },
     "execution_count": 5,
     "metadata": {},
     "output_type": "execute_result"
    }
   ],
   "source": [
    "x = '2'\n",
    "y = '1'\n",
    "\n",
    "x + y"
   ]
  },
  {
   "cell_type": "code",
   "execution_count": 6,
   "id": "a7c0b103",
   "metadata": {},
   "outputs": [
    {
     "data": {
      "text/plain": [
       "'Chavda'"
      ]
     },
     "execution_count": 6,
     "metadata": {},
     "output_type": "execute_result"
    }
   ],
   "source": [
    "str.capitalize('chavda')"
   ]
  },
  {
   "cell_type": "code",
   "execution_count": 7,
   "id": "0a272de5",
   "metadata": {},
   "outputs": [
    {
     "data": {
      "text/plain": [
       "20"
      ]
     },
     "execution_count": 7,
     "metadata": {},
     "output_type": "execute_result"
    }
   ],
   "source": [
    "str1 = \"We love Data Science\"\n",
    "str2 = \"7533\"\n",
    "len(str1)"
   ]
  },
  {
   "cell_type": "code",
   "execution_count": 8,
   "id": "eee67391",
   "metadata": {},
   "outputs": [
    {
     "data": {
      "text/plain": [
       "False"
      ]
     },
     "execution_count": 8,
     "metadata": {},
     "output_type": "execute_result"
    }
   ],
   "source": [
    "str1.isdigit()"
   ]
  },
  {
   "cell_type": "code",
   "execution_count": 9,
   "id": "dade5091",
   "metadata": {},
   "outputs": [
    {
     "data": {
      "text/plain": [
       "True"
      ]
     },
     "execution_count": 9,
     "metadata": {},
     "output_type": "execute_result"
    }
   ],
   "source": [
    "str2.isdigit()"
   ]
  },
  {
   "cell_type": "code",
   "execution_count": 10,
   "id": "f58a75fd",
   "metadata": {},
   "outputs": [
    {
     "data": {
      "text/plain": [
       "'We like Data Science'"
      ]
     },
     "execution_count": 10,
     "metadata": {},
     "output_type": "execute_result"
    }
   ],
   "source": [
    "str3 = 'like'\n",
    "str1.replace('love', str3)"
   ]
  },
  {
   "cell_type": "code",
   "execution_count": 14,
   "id": "1e650bde",
   "metadata": {},
   "outputs": [
    {
     "data": {
      "text/plain": [
       "'We love Data Science'"
      ]
     },
     "execution_count": 14,
     "metadata": {},
     "output_type": "execute_result"
    }
   ],
   "source": [
    "str1"
   ]
  },
  {
   "cell_type": "code",
   "execution_count": 16,
   "id": "f13e24e0",
   "metadata": {},
   "outputs": [
    {
     "name": "stdout",
     "output_type": "stream",
     "text": [
      "We DO'nt want  Data Scientists\n"
     ]
    }
   ],
   "source": [
    "x = 4\n",
    "y = 2\n",
    "z = (x==y) \n",
    "if z: \n",
    "    print(\"We want  Data Scientists\")\n",
    "else: \n",
    "    print(\"We DO'nt want  Data Scientists\")"
   ]
  },
  {
   "cell_type": "code",
   "execution_count": 17,
   "id": "44acaff3",
   "metadata": {},
   "outputs": [
    {
     "data": {
      "text/plain": [
       "float"
      ]
     },
     "execution_count": 17,
     "metadata": {},
     "output_type": "execute_result"
    }
   ],
   "source": [
    "x = 6.0 \n",
    "y = 3 \n",
    "\n",
    "z = x/y\n",
    "\n",
    "type(z)"
   ]
  },
  {
   "cell_type": "code",
   "execution_count": 20,
   "id": "99cdba13",
   "metadata": {},
   "outputs": [
    {
     "name": "stdout",
     "output_type": "stream",
     "text": [
      "Game of cricket: Season 1\n"
     ]
    }
   ],
   "source": [
    "x = 1\n",
    "y = \"Game of cricket: Season \"\n",
    "fav_season = (y) + str(x)\n",
    "print(fav_season)"
   ]
  },
  {
   "cell_type": "code",
   "execution_count": null,
   "id": "b4b30be8",
   "metadata": {},
   "outputs": [],
   "source": []
  }
 ],
 "metadata": {
  "kernelspec": {
   "display_name": "Python 3 (ipykernel)",
   "language": "python",
   "name": "python3"
  },
  "language_info": {
   "codemirror_mode": {
    "name": "ipython",
    "version": 3
   },
   "file_extension": ".py",
   "mimetype": "text/x-python",
   "name": "python",
   "nbconvert_exporter": "python",
   "pygments_lexer": "ipython3",
   "version": "3.10.13"
  }
 },
 "nbformat": 4,
 "nbformat_minor": 5
}
