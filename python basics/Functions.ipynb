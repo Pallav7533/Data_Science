{
 "cells": [
  {
   "cell_type": "code",
   "execution_count": 1,
   "id": "c6d2d7dd",
   "metadata": {},
   "outputs": [],
   "source": [
    "import numpy as np"
   ]
  },
  {
   "cell_type": "code",
   "execution_count": 2,
   "id": "8801dae5",
   "metadata": {},
   "outputs": [
    {
     "name": "stdout",
     "output_type": "stream",
     "text": [
      "1\n",
      "Nope keep trying\n"
     ]
    }
   ],
   "source": [
    "a = np.random.randint(1,10)\n",
    "print(a)\n",
    "if a > 5:\n",
    "    print(\"not more than 5\")\n",
    "elif a == 5:\n",
    "    print(\"Yes! it is\")\n",
    "else:\n",
    "    print(\"Nope keep trying\")"
   ]
  },
  {
   "cell_type": "code",
   "execution_count": 3,
   "id": "31873809",
   "metadata": {},
   "outputs": [],
   "source": [
    "def mycube(x):\n",
    "    return x*x*x"
   ]
  },
  {
   "cell_type": "code",
   "execution_count": 4,
   "id": "0b6f96a0",
   "metadata": {},
   "outputs": [
    {
     "data": {
      "text/plain": [
       "91125"
      ]
     },
     "execution_count": 4,
     "metadata": {},
     "output_type": "execute_result"
    }
   ],
   "source": [
    "mycube(45)"
   ]
  },
  {
   "cell_type": "code",
   "execution_count": 8,
   "id": "74454f0a",
   "metadata": {},
   "outputs": [
    {
     "data": {
      "text/plain": [
       "<filter at 0x226776fc190>"
      ]
     },
     "execution_count": 8,
     "metadata": {},
     "output_type": "execute_result"
    }
   ],
   "source": [
    "mynums = [3,2,6,8,4,6,2,9,5,7]\n",
    "def is_even(n):\n",
    "    return n%2 == 0\n",
    "\n",
    "evens = filter(is_even, mynums)\n",
    "evens"
   ]
  },
  {
   "cell_type": "code",
   "execution_count": 9,
   "id": "823accec",
   "metadata": {},
   "outputs": [
    {
     "data": {
      "text/plain": [
       "[2, 6, 8, 4, 6, 2]"
      ]
     },
     "execution_count": 9,
     "metadata": {},
     "output_type": "execute_result"
    }
   ],
   "source": [
    "evens = list(filter(is_even, mynums))\n",
    "evens"
   ]
  },
  {
   "cell_type": "code",
   "execution_count": 10,
   "id": "688357f8",
   "metadata": {},
   "outputs": [],
   "source": [
    "myfunc = lambda x: x*x*x"
   ]
  },
  {
   "cell_type": "code",
   "execution_count": 11,
   "id": "f047b0bb",
   "metadata": {},
   "outputs": [
    {
     "data": {
      "text/plain": [
       "39304"
      ]
     },
     "execution_count": 11,
     "metadata": {},
     "output_type": "execute_result"
    }
   ],
   "source": [
    "myfunc(34)"
   ]
  },
  {
   "cell_type": "code",
   "execution_count": 12,
   "id": "838d4218",
   "metadata": {},
   "outputs": [],
   "source": [
    "mysqr = lambda a,b: a + b**2"
   ]
  },
  {
   "cell_type": "code",
   "execution_count": 14,
   "id": "a0771dee",
   "metadata": {},
   "outputs": [
    {
     "data": {
      "text/plain": [
       "19"
      ]
     },
     "execution_count": 14,
     "metadata": {},
     "output_type": "execute_result"
    }
   ],
   "source": [
    "mysqr(3,4)"
   ]
  },
  {
   "cell_type": "code",
   "execution_count": 15,
   "id": "c3a7bd5b",
   "metadata": {},
   "outputs": [
    {
     "data": {
      "text/plain": [
       "[2, 6, 8, 4, 6, 2]"
      ]
     },
     "execution_count": 15,
     "metadata": {},
     "output_type": "execute_result"
    }
   ],
   "source": [
    "mynums= [3,2,6,8,4,6,2,9,5,7]\n",
    "\n",
    "evens = list(filter(lambda x: x%2 == 0,mynums)) \n",
    "evens"
   ]
  },
  {
   "cell_type": "code",
   "execution_count": 16,
   "id": "8954a78c",
   "metadata": {},
   "outputs": [
    {
     "data": {
      "text/plain": [
       "[4, 12, 16, 8, 12, 4]"
      ]
     },
     "execution_count": 16,
     "metadata": {},
     "output_type": "execute_result"
    }
   ],
   "source": [
    "mydouble = list(map(lambda x:x*2, evens))\n",
    "mydouble"
   ]
  },
  {
   "cell_type": "code",
   "execution_count": 17,
   "id": "84eb7032",
   "metadata": {},
   "outputs": [
    {
     "data": {
      "text/plain": [
       "56"
      ]
     },
     "execution_count": 17,
     "metadata": {},
     "output_type": "execute_result"
    }
   ],
   "source": [
    "from functools import reduce\n",
    "\n",
    "mysum = reduce(lambda a,b: a+b,mydouble)\n",
    "mysum"
   ]
  },
  {
   "cell_type": "code",
   "execution_count": 19,
   "id": "db2f0f28",
   "metadata": {},
   "outputs": [
    {
     "name": "stdout",
     "output_type": "stream",
     "text": [
      "[945, 1265, 2860]\n"
     ]
    }
   ],
   "source": [
    "m=[45,55,65]\n",
    "x=[21,23,44]\n",
    "bmi=list(map(lambda a,b:a*b,m,x))\n",
    "print (bmi)"
   ]
  },
  {
   "cell_type": "code",
   "execution_count": null,
   "id": "94aa1161",
   "metadata": {},
   "outputs": [],
   "source": []
  }
 ],
 "metadata": {
  "kernelspec": {
   "display_name": "Python 3 (ipykernel)",
   "language": "python",
   "name": "python3"
  },
  "language_info": {
   "codemirror_mode": {
    "name": "ipython",
    "version": 3
   },
   "file_extension": ".py",
   "mimetype": "text/x-python",
   "name": "python",
   "nbconvert_exporter": "python",
   "pygments_lexer": "ipython3",
   "version": "3.10.13"
  }
 },
 "nbformat": 4,
 "nbformat_minor": 5
}
