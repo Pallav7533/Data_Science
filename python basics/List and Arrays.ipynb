{
 "cells": [
  {
   "cell_type": "code",
   "execution_count": 1,
   "id": "093abd13",
   "metadata": {},
   "outputs": [],
   "source": [
    "import array as a"
   ]
  },
  {
   "cell_type": "code",
   "execution_count": 3,
   "id": "3e4fd1d6",
   "metadata": {},
   "outputs": [
    {
     "data": {
      "text/plain": [
       "list"
      ]
     },
     "execution_count": 3,
     "metadata": {},
     "output_type": "execute_result"
    }
   ],
   "source": [
    "x1 = [1,2,3]\n",
    "type(x1)"
   ]
  },
  {
   "cell_type": "code",
   "execution_count": 4,
   "id": "bdf29b3e",
   "metadata": {},
   "outputs": [
    {
     "data": {
      "text/plain": [
       "list"
      ]
     },
     "execution_count": 4,
     "metadata": {},
     "output_type": "execute_result"
    }
   ],
   "source": [
    "x2 = list(['Banana',3])\n",
    "type(x2)"
   ]
  },
  {
   "cell_type": "code",
   "execution_count": 5,
   "id": "f9ebc5c2",
   "metadata": {},
   "outputs": [
    {
     "name": "stdout",
     "output_type": "stream",
     "text": [
      "3\n"
     ]
    }
   ],
   "source": [
    "print(x2[1])"
   ]
  },
  {
   "cell_type": "code",
   "execution_count": 6,
   "id": "0145e1d4",
   "metadata": {},
   "outputs": [
    {
     "name": "stdout",
     "output_type": "stream",
     "text": [
      "['Banana', 'orange']\n"
     ]
    }
   ],
   "source": [
    "x2[1] = 'orange'\n",
    "print(x2)"
   ]
  },
  {
   "cell_type": "code",
   "execution_count": 8,
   "id": "fe223d51",
   "metadata": {},
   "outputs": [
    {
     "name": "stdout",
     "output_type": "stream",
     "text": [
      "[1, 2, 45, 6, 7, 2, 90, 23, 435, 11]\n"
     ]
    }
   ],
   "source": [
    "list_num = [1,2,45,6,7,2,90,23,435]\n",
    "list_char = ['c','o','o','k','i','e']\n",
    "\n",
    "list_num.append(11) \n",
    "print(list_num)"
   ]
  },
  {
   "cell_type": "code",
   "execution_count": 9,
   "id": "a1e75979",
   "metadata": {},
   "outputs": [
    {
     "name": "stdout",
     "output_type": "stream",
     "text": [
      "[11, 1, 2, 45, 6, 7, 2, 90, 23, 435, 11]\n"
     ]
    }
   ],
   "source": [
    "list_num.insert(0, 11)\n",
    "print(list_num)"
   ]
  },
  {
   "cell_type": "code",
   "execution_count": 14,
   "id": "a5122ca7",
   "metadata": {},
   "outputs": [
    {
     "name": "stdout",
     "output_type": "stream",
     "text": [
      "['c', 'k', 'i', 'e']\n"
     ]
    }
   ],
   "source": [
    "list_char.remove('o') \n",
    "print(list_char)"
   ]
  },
  {
   "cell_type": "code",
   "execution_count": 19,
   "id": "67202d75",
   "metadata": {},
   "outputs": [
    {
     "ename": "AttributeError",
     "evalue": "'array.array' object has no attribute 'tostring'",
     "output_type": "error",
     "traceback": [
      "\u001b[1;31m---------------------------------------------------------------------------\u001b[0m",
      "\u001b[1;31mAttributeError\u001b[0m                            Traceback (most recent call last)",
      "Cell \u001b[1;32mIn[19], line 2\u001b[0m\n\u001b[0;32m      1\u001b[0m array_char \u001b[38;5;241m=\u001b[39m a\u001b[38;5;241m.\u001b[39marray(\u001b[38;5;124m\"\u001b[39m\u001b[38;5;124mu\u001b[39m\u001b[38;5;124m\"\u001b[39m,[\u001b[38;5;124m\"\u001b[39m\u001b[38;5;124mc\u001b[39m\u001b[38;5;124m\"\u001b[39m,\u001b[38;5;124m\"\u001b[39m\u001b[38;5;124ma\u001b[39m\u001b[38;5;124m\"\u001b[39m,\u001b[38;5;124m\"\u001b[39m\u001b[38;5;124mt\u001b[39m\u001b[38;5;124m\"\u001b[39m,\u001b[38;5;124m\"\u001b[39m\u001b[38;5;124ms\u001b[39m\u001b[38;5;124m\"\u001b[39m])\n\u001b[1;32m----> 2\u001b[0m \u001b[43marray_char\u001b[49m\u001b[38;5;241;43m.\u001b[39;49m\u001b[43mtostring\u001b[49m()\n\u001b[0;32m      3\u001b[0m \u001b[38;5;28mprint\u001b[39m(array_char)\n",
      "\u001b[1;31mAttributeError\u001b[0m: 'array.array' object has no attribute 'tostring'"
     ]
    }
   ],
   "source": [
    "array_char = a.array(\"u\",[\"c\",\"a\",\"t\",\"s\"])\n",
    "array_char.tostring()\n",
    "print(array_char)"
   ]
  },
  {
   "cell_type": "code",
   "execution_count": 17,
   "id": "4787b533",
   "metadata": {},
   "outputs": [],
   "source": [
    "array_int = a.array(\"i\",[1,2,3,4,5])"
   ]
  },
  {
   "cell_type": "code",
   "execution_count": 18,
   "id": "19c1133b",
   "metadata": {},
   "outputs": [
    {
     "data": {
      "text/plain": [
       "array('i', [1, 2, 3, 4, 5])"
      ]
     },
     "execution_count": 18,
     "metadata": {},
     "output_type": "execute_result"
    }
   ],
   "source": [
    "array_int"
   ]
  },
  {
   "cell_type": "code",
   "execution_count": null,
   "id": "3d60ec70",
   "metadata": {},
   "outputs": [],
   "source": []
  }
 ],
 "metadata": {
  "kernelspec": {
   "display_name": "Python 3 (ipykernel)",
   "language": "python",
   "name": "python3"
  },
  "language_info": {
   "codemirror_mode": {
    "name": "ipython",
    "version": 3
   },
   "file_extension": ".py",
   "mimetype": "text/x-python",
   "name": "python",
   "nbconvert_exporter": "python",
   "pygments_lexer": "ipython3",
   "version": "3.10.13"
  }
 },
 "nbformat": 4,
 "nbformat_minor": 5
}
