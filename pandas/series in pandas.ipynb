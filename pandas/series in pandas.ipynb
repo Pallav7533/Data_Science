{
 "cells": [
  {
   "cell_type": "code",
   "execution_count": 1,
   "id": "c3732eca",
   "metadata": {},
   "outputs": [],
   "source": [
    "import numpy as np\n",
    "import pandas as pd"
   ]
  },
  {
   "cell_type": "code",
   "execution_count": 2,
   "id": "3d66271e",
   "metadata": {},
   "outputs": [],
   "source": [
    "labels = ['StudentId','Rank','Age']\n",
    "my_list = [100,4,24]\n",
    "arr = np.array([100,4,24])\n",
    "d = {'StudentId':100,'Rank':4,'Age':24}"
   ]
  },
  {
   "cell_type": "code",
   "execution_count": 3,
   "id": "b5944c22",
   "metadata": {},
   "outputs": [
    {
     "data": {
      "text/plain": [
       "0    100\n",
       "1      4\n",
       "2     24\n",
       "dtype: int64"
      ]
     },
     "execution_count": 3,
     "metadata": {},
     "output_type": "execute_result"
    }
   ],
   "source": [
    "pd.Series(data=my_list)"
   ]
  },
  {
   "cell_type": "code",
   "execution_count": 4,
   "id": "b4238a44",
   "metadata": {},
   "outputs": [
    {
     "data": {
      "text/plain": [
       "StudentId    100\n",
       "Rank           4\n",
       "Age           24\n",
       "dtype: int64"
      ]
     },
     "execution_count": 4,
     "metadata": {},
     "output_type": "execute_result"
    }
   ],
   "source": [
    "pd.Series(data=my_list,index=labels)\n"
   ]
  },
  {
   "cell_type": "code",
   "execution_count": 5,
   "id": "f9cb56e5",
   "metadata": {},
   "outputs": [
    {
     "data": {
      "text/plain": [
       "StudentId    100\n",
       "Rank           4\n",
       "Age           24\n",
       "dtype: int64"
      ]
     },
     "execution_count": 5,
     "metadata": {},
     "output_type": "execute_result"
    }
   ],
   "source": [
    "pd.Series(my_list,labels)"
   ]
  },
  {
   "cell_type": "code",
   "execution_count": 6,
   "id": "cbe265cc",
   "metadata": {},
   "outputs": [
    {
     "data": {
      "text/plain": [
       "0    100\n",
       "1      4\n",
       "2     24\n",
       "dtype: int32"
      ]
     },
     "execution_count": 6,
     "metadata": {},
     "output_type": "execute_result"
    }
   ],
   "source": [
    "pd.Series(arr)"
   ]
  },
  {
   "cell_type": "code",
   "execution_count": 7,
   "id": "0fcaa93d",
   "metadata": {},
   "outputs": [
    {
     "data": {
      "text/plain": [
       "StudentId    100\n",
       "Rank           4\n",
       "Age           24\n",
       "dtype: int32"
      ]
     },
     "execution_count": 7,
     "metadata": {},
     "output_type": "execute_result"
    }
   ],
   "source": [
    "pd.Series(arr,labels)"
   ]
  },
  {
   "cell_type": "code",
   "execution_count": 8,
   "id": "596757cb",
   "metadata": {},
   "outputs": [
    {
     "data": {
      "text/plain": [
       "StudentId    100\n",
       "Rank           4\n",
       "Age           24\n",
       "dtype: int64"
      ]
     },
     "execution_count": 8,
     "metadata": {},
     "output_type": "execute_result"
    }
   ],
   "source": [
    "pd.Series(d)\n"
   ]
  },
  {
   "cell_type": "code",
   "execution_count": 9,
   "id": "ccc01a48",
   "metadata": {},
   "outputs": [
    {
     "data": {
      "text/plain": [
       "0    StudentId\n",
       "1         Rank\n",
       "2          Age\n",
       "dtype: object"
      ]
     },
     "execution_count": 9,
     "metadata": {},
     "output_type": "execute_result"
    }
   ],
   "source": [
    "pd.Series(data=labels)"
   ]
  },
  {
   "cell_type": "code",
   "execution_count": 10,
   "id": "0864170c",
   "metadata": {},
   "outputs": [
    {
     "data": {
      "text/plain": [
       "0      <built-in function sum>\n",
       "1    <built-in function print>\n",
       "2      <built-in function len>\n",
       "dtype: object"
      ]
     },
     "execution_count": 10,
     "metadata": {},
     "output_type": "execute_result"
    }
   ],
   "source": [
    "pd.Series([sum,print,len])"
   ]
  },
  {
   "cell_type": "code",
   "execution_count": 11,
   "id": "aa4d99bd",
   "metadata": {},
   "outputs": [],
   "source": [
    "ser1 = pd.Series([1,2,3,4],index = ['ahmedabad', 'surat','Deesa', 'dang'])                    "
   ]
  },
  {
   "cell_type": "code",
   "execution_count": 12,
   "id": "b3ce4eea",
   "metadata": {},
   "outputs": [
    {
     "data": {
      "text/plain": [
       "ahmedabad    1\n",
       "surat        2\n",
       "Deesa        3\n",
       "dang         4\n",
       "dtype: int64"
      ]
     },
     "execution_count": 12,
     "metadata": {},
     "output_type": "execute_result"
    }
   ],
   "source": [
    "ser1"
   ]
  },
  {
   "cell_type": "code",
   "execution_count": 15,
   "id": "583f1909",
   "metadata": {},
   "outputs": [],
   "source": [
    "ser2 = pd.Series([1,2,5,4],index = ['ahmedabad', 'surat','gandhinagar', 'dang'])           "
   ]
  },
  {
   "cell_type": "code",
   "execution_count": 16,
   "id": "bc62d305",
   "metadata": {},
   "outputs": [
    {
     "data": {
      "text/plain": [
       "ahmedabad      1\n",
       "surat          2\n",
       "gandhinagar    5\n",
       "dang           4\n",
       "dtype: int64"
      ]
     },
     "execution_count": 16,
     "metadata": {},
     "output_type": "execute_result"
    }
   ],
   "source": [
    "ser2"
   ]
  },
  {
   "cell_type": "code",
   "execution_count": 18,
   "id": "0b1a38a9",
   "metadata": {},
   "outputs": [
    {
     "data": {
      "text/plain": [
       "2"
      ]
     },
     "execution_count": 18,
     "metadata": {},
     "output_type": "execute_result"
    }
   ],
   "source": [
    "ser1['surat']"
   ]
  },
  {
   "cell_type": "code",
   "execution_count": 19,
   "id": "7036c292",
   "metadata": {},
   "outputs": [
    {
     "data": {
      "text/plain": [
       "Deesa          NaN\n",
       "ahmedabad      2.0\n",
       "dang           8.0\n",
       "gandhinagar    NaN\n",
       "surat          4.0\n",
       "dtype: float64"
      ]
     },
     "execution_count": 19,
     "metadata": {},
     "output_type": "execute_result"
    }
   ],
   "source": [
    "ser1 + ser2"
   ]
  },
  {
   "cell_type": "code",
   "execution_count": null,
   "id": "9f156d63",
   "metadata": {},
   "outputs": [],
   "source": []
  }
 ],
 "metadata": {
  "kernelspec": {
   "display_name": "Python 3 (ipykernel)",
   "language": "python",
   "name": "python3"
  },
  "language_info": {
   "codemirror_mode": {
    "name": "ipython",
    "version": 3
   },
   "file_extension": ".py",
   "mimetype": "text/x-python",
   "name": "python",
   "nbconvert_exporter": "python",
   "pygments_lexer": "ipython3",
   "version": "3.10.13"
  }
 },
 "nbformat": 4,
 "nbformat_minor": 5
}
